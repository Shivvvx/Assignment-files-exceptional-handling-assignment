{
  "nbformat": 4,
  "nbformat_minor": 0,
  "metadata": {
    "colab": {
      "provenance": []
    },
    "kernelspec": {
      "name": "python3",
      "display_name": "Python 3"
    },
    "language_info": {
      "name": "python"
    }
  },
  "cells": [
    {
      "cell_type": "markdown",
      "source": [
        "**Q1.What is the difference between interpreted and compiled languages?**\n",
        "- Ans : An interpreted language is executed line-by-line by an interpreter at runtime, which makes it easier to test and debug but generally slower in execution (e.g., Python, JavaScript). A compiled language is translated into machine code by a compiler before execution, making programs run faster but requiring recompilation after changes (e.g., C, C++).\n",
        "\n"
      ],
      "metadata": {
        "id": "U5OWJP-fHAQ_"
      }
    },
    {
      "cell_type": "markdown",
      "source": [
        "**Q2.What is exception handling in Python?**\n",
        "- Ans. Exception handling in Python is a way to manage errors during program execution using blocks like `try`, `except`, `else`, and `finally`, allowing the program to handle unexpected situations without crashing.\n"
      ],
      "metadata": {
        "id": "idRD2F0YHzoE"
      }
    },
    {
      "cell_type": "markdown",
      "source": [
        "**Q3.What is the purpose of the finally block in exception handling?**\n",
        "- Ans. The `finally` block in exception handling is used to execute code that must run regardless of whether an exception occurs or not, such as closing files or releasing resources.\n"
      ],
      "metadata": {
        "id": "XM-MvvtQIXtj"
      }
    },
    {
      "cell_type": "markdown",
      "source": [
        "**Q4.What is logging in Python?**\n",
        "- Ans. Logging in Python is the process of recording program events, errors, or information to help monitor, debug, and analyze the application’s behavior, typically using the built-in `logging` module.\n"
      ],
      "metadata": {
        "id": "t2twU0_jIpHi"
      }
    },
    {
      "cell_type": "markdown",
      "source": [
        "**Q5.What is the significance of the __del__ method in Python?**\n",
        "- Ans. The `__del__` method in Python is a destructor that is automatically called when an object is about to be destroyed, allowing you to clean up resources like closing files or network connections.\n"
      ],
      "metadata": {
        "id": "CXvNTFYcJC2Y"
      }
    },
    {
      "cell_type": "markdown",
      "source": [
        "**Q6.What is the difference between import and from ... import in Python?**\n",
        "- Ans. `import` brings the entire module into your code, requiring you to use the module name to access its functions or variables, while `from ... import` lets you directly import specific functions, classes, or variables from a module for use without the module name prefix.\n"
      ],
      "metadata": {
        "id": "NG8F7bdbJcIW"
      }
    },
    {
      "cell_type": "markdown",
      "source": [
        "**Q7.How can you handle multiple exceptions in Python?**\n",
        "- Ans. You can handle multiple exceptions in Python by listing them as a tuple in a single `except` block or by using multiple `except` blocks, each handling a different exception type.\n"
      ],
      "metadata": {
        "id": "f8O7NIdIJyTd"
      }
    },
    {
      "cell_type": "markdown",
      "source": [
        "**Q8.What is the purpose of the with statement when handling files in Python?**\n",
        "- Ans.The `with` statement in Python ensures that a file is properly opened and automatically closed after its block of code is executed, even if an exception occurs, simplifying resource management.\n"
      ],
      "metadata": {
        "id": "fk9I24xKKJHt"
      }
    },
    {
      "cell_type": "markdown",
      "source": [
        "**Q9.What is the difference between multithreading and multiprocessing?**\n",
        "- Ans.Multithreading runs multiple threads within the same process, sharing memory and resources for lightweight tasks, while multiprocessing runs separate processes with their own memory space, making it better for CPU-intensive tasks and avoiding the Global Interpreter Lock (GIL) in Python.\n"
      ],
      "metadata": {
        "id": "bAVzBFj2KcAD"
      }
    },
    {
      "cell_type": "markdown",
      "source": [
        "**Q10.What are the advantages of using logging in a program?**\n",
        "- Ans.Logging helps track program execution, debug issues, monitor performance, maintain records of errors and events, and provides more control and flexibility than using simple print statements.\n"
      ],
      "metadata": {
        "id": "mX55uzTAKwFT"
      }
    },
    {
      "cell_type": "markdown",
      "source": [
        "**Q11.What is memory management in Python?**\n",
        "- Ans.Memory management in Python involves handling the allocation and release of memory for objects, done automatically through its built-in garbage collector, which reclaims unused memory to optimize performance.\n"
      ],
      "metadata": {
        "id": "S77awIXrLCW7"
      }
    },
    {
      "cell_type": "markdown",
      "source": [
        "**Q12.What are the basic steps involved in exception handling in Python?**\n",
        "- Ans.The basic steps in exception handling in Python are to place risky code inside a `try` block, catch and handle errors using one or more `except` blocks, optionally run code if no exception occurs with `else`, and execute cleanup actions with `finally`.\n"
      ],
      "metadata": {
        "id": "K9rrcX0yLSpi"
      }
    },
    {
      "cell_type": "markdown",
      "source": [
        "**Q13.Why is memory management important in Python?**\n",
        "- Ans.Memory management is important in Python to ensure efficient use of resources, prevent memory leaks, and maintain program performance by automatically freeing unused memory through garbage collection.\n"
      ],
      "metadata": {
        "id": "BIxc9XNGLn59"
      }
    },
    {
      "cell_type": "markdown",
      "source": [
        "**Q14.What is the role of try and except in exception handling?**\n",
        "- Ans.In exception handling, the `try` block contains code that may cause an error, while the `except` block catches and handles the error, preventing the program from crashing.\n"
      ],
      "metadata": {
        "id": "5CcTul-BL4_I"
      }
    },
    {
      "cell_type": "markdown",
      "source": [
        "**Q15.How does Python's garbage collection system work?**\n",
        "- Ans.Python’s garbage collection system works by automatically freeing memory used by objects that are no longer referenced, mainly through reference counting and a cyclic garbage collector to clean up objects involved in reference cycles.\n"
      ],
      "metadata": {
        "id": "8OhZco9kMIvB"
      }
    },
    {
      "cell_type": "markdown",
      "source": [
        "**Q16.What is the purpose of the else block in exception handling?**\n",
        "- Ans.The `else` block in exception handling runs only if no exceptions occur in the `try` block, allowing you to execute code that should run when the `try` block succeeds.\n"
      ],
      "metadata": {
        "id": "9nWikKVfMWYs"
      }
    },
    {
      "cell_type": "markdown",
      "source": [
        "**Q17.What are the common logging levels in Python?**\n",
        "- Ans.The common logging levels in Python are **DEBUG**, **INFO**, **WARNING**, **ERROR**, and **CRITICAL**, each indicating the severity or importance of the logged message.\n"
      ],
      "metadata": {
        "id": "UZNqi01iMscO"
      }
    },
    {
      "cell_type": "markdown",
      "source": [
        "**Q18.What is the difference between os.fork() and multiprocessing in Python?**\n",
        "- Ans.`os.fork()` directly creates a child process by duplicating the current process, working only on Unix-like systems, while `multiprocessing` is a cross-platform module that provides a higher-level API to create and manage separate processes with features like process pools and inter-process communication.\n"
      ],
      "metadata": {
        "id": "iEyBeCdkM0H-"
      }
    },
    {
      "cell_type": "markdown",
      "source": [
        "**Q19.What is the importance of closing a file in Python?**\n",
        "- Ans.Closing a file in Python is important because it frees system resources, ensures all data is properly written to disk, and prevents file corruption or access issues."
      ],
      "metadata": {
        "id": "fTs2Py2lNJpe"
      }
    },
    {
      "cell_type": "markdown",
      "source": [
        "**Q20.What is the difference between file.read() and file.readline() in Python?**\n",
        "- Ans.`file.read()` reads the entire file or a specified number of bytes into a single string, while `file.readline()` reads only one line from the file at a time."
      ],
      "metadata": {
        "id": "XrbH8kUnNb3v"
      }
    },
    {
      "cell_type": "markdown",
      "source": [
        "**Q21.What is the logging module in Python used for?**\n",
        "- Ans.The logging module in Python is used to record messages about a program’s execution, such as errors, warnings, or informational events, for debugging, monitoring, and maintaining applications."
      ],
      "metadata": {
        "id": "ivz-6H5uNrLC"
      }
    },
    {
      "cell_type": "markdown",
      "source": [
        "**Q22.What is the os module in Python used for in file handling?**\n",
        "- Ans.The `os` module in Python is used for interacting with the operating system, enabling file handling tasks like creating, deleting, renaming, and navigating directories, as well as managing file paths and metadata.\n"
      ],
      "metadata": {
        "id": "rDRf_b82N86U"
      }
    },
    {
      "cell_type": "markdown",
      "source": [
        "**Q23.What are the challenges associated with memory management in Python?**\n",
        "- Ans.Challenges in Python’s memory management include handling memory leaks from lingering references, managing large objects that strain memory, dealing with fragmentation, and the overhead of garbage collection affecting performance in some cases.\n"
      ],
      "metadata": {
        "id": "J51_7CyoOMeh"
      }
    },
    {
      "cell_type": "markdown",
      "source": [
        "**Q24.How do you raise an exception manually in Python?**\n",
        "- Ans.You can raise an exception manually in Python using the `raise` statement followed by the exception type, optionally with a message, for example: `raise ValueError(\"Invalid input\")`.\n"
      ],
      "metadata": {
        "id": "WRvdhqtuOj-5"
      }
    },
    {
      "cell_type": "markdown",
      "source": [
        "**Q25.Why is it important to use multithreading in certain applications?**\n",
        "- Ans.Multithreading is important in certain applications to improve responsiveness, handle multiple tasks concurrently, and efficiently manage I/O-bound operations without blocking the main program flow.\n"
      ],
      "metadata": {
        "id": "rN74A7GEO1jo"
      }
    },
    {
      "cell_type": "markdown",
      "source": [
        "***Practical Questions***\n"
      ],
      "metadata": {
        "id": "8d-q3n14PQL2"
      }
    },
    {
      "cell_type": "code",
      "source": [
        "#Q1.How can you open a file for writing in Python and write a string to it?\n",
        "with open(\"example.txt\", \"w\") as file:\n",
        "    file.write(\"Hello, Python!\")\n"
      ],
      "metadata": {
        "id": "-INtsXbmPLrt"
      },
      "execution_count": 2,
      "outputs": []
    },
    {
      "cell_type": "code",
      "source": [
        "#Q2.Write a Python program to read the contents of a file and print each line?\n",
        "with open(\"example.txt\", \"r\") as file:\n",
        "    for line in file:\n",
        "        print(line.strip())"
      ],
      "metadata": {
        "colab": {
          "base_uri": "https://localhost:8080/"
        },
        "id": "zDfPHdOnQFGD",
        "outputId": "d7618d8f-a2ef-4221-d97b-4c8074bfbaa8"
      },
      "execution_count": 3,
      "outputs": [
        {
          "output_type": "stream",
          "name": "stdout",
          "text": [
            "Hello, Python!\n"
          ]
        }
      ]
    },
    {
      "cell_type": "code",
      "source": [
        "#Q3.How would you handle a case where the file doesn't exist while trying to open it for reading?\n",
        "try:\n",
        "    with open(\"example.txt\", \"r\") as file:\n",
        "        print(file.read())\n",
        "except FileNotFoundError:\n",
        "    print(\"The file does not exist.\")\n"
      ],
      "metadata": {
        "colab": {
          "base_uri": "https://localhost:8080/"
        },
        "id": "uBEZ8FaMQV0o",
        "outputId": "688f6451-9121-4d04-be3a-2825d6684544"
      },
      "execution_count": 4,
      "outputs": [
        {
          "output_type": "stream",
          "name": "stdout",
          "text": [
            "Hello, Python!\n"
          ]
        }
      ]
    },
    {
      "cell_type": "code",
      "source": [
        "#Q4.Write a Python script that reads from one file and writes its content to another file?\n",
        "with open(\"example.txt\", \"r\") as source_file:\n",
        "    content = source_file.read()\n",
        "with open(\"output.txt\", \"w\") as target_file:\n",
        "    target_file.write(content)\n"
      ],
      "metadata": {
        "id": "JzqCQU4oRL0m"
      },
      "execution_count": 8,
      "outputs": []
    },
    {
      "cell_type": "code",
      "source": [
        "#Q5.How would you catch and handle division by zero error in Python?\n",
        "try:\n",
        "    result = 10 / 0\n",
        "except ZeroDivisionError:\n",
        "    print(\"Error: Division by zero.\")"
      ],
      "metadata": {
        "colab": {
          "base_uri": "https://localhost:8080/"
        },
        "id": "oPrsNxirSGmc",
        "outputId": "c5f1447e-4076-4f4a-c228-47ae77fb9671"
      },
      "execution_count": 9,
      "outputs": [
        {
          "output_type": "stream",
          "name": "stdout",
          "text": [
            "Error: Division by zero.\n"
          ]
        }
      ]
    },
    {
      "cell_type": "code",
      "source": [
        "#Q6.Write a Python program that logs an error message to a log file when a division by zero exception occurs?\n",
        "import logging\n",
        "\n",
        "logging.basicConfig(filename=\"error.log\", level=logging.ERROR)\n",
        "\n",
        "try:\n",
        "    result = 10 / 0\n",
        "except ZeroDivisionError:\n",
        "    logging.error(\"Division by zero error occurred.\")"
      ],
      "metadata": {
        "colab": {
          "base_uri": "https://localhost:8080/"
        },
        "id": "OcOaKR29Sc5i",
        "outputId": "3ca0570f-4af1-4fb2-9f6f-878797e347a6"
      },
      "execution_count": 10,
      "outputs": [
        {
          "output_type": "stream",
          "name": "stderr",
          "text": [
            "ERROR:root:Division by zero error occurred.\n"
          ]
        }
      ]
    },
    {
      "cell_type": "code",
      "source": [
        "#Q7.How do you log information at different levels (INFO, ERROR, WARNING) in Python using the logging module?\n",
        "import logging\n",
        "\n",
        "logging.basicConfig(filename=\"app.log\", level=logging.DEBUG)\n",
        "\n",
        "logging.info(\"This is an info message.\")\n",
        "logging.warning(\"This is a warning message.\")\n",
        "logging.error(\"This is an error message.\")\n",
        "\n"
      ],
      "metadata": {
        "colab": {
          "base_uri": "https://localhost:8080/"
        },
        "id": "GEQpIwBRS_bR",
        "outputId": "e403a47f-6fd8-4390-c06f-d7fbd46e900e"
      },
      "execution_count": 11,
      "outputs": [
        {
          "output_type": "stream",
          "name": "stderr",
          "text": [
            "WARNING:root:This is a warning message.\n",
            "ERROR:root:This is an error message.\n"
          ]
        }
      ]
    },
    {
      "cell_type": "code",
      "source": [
        "#Q8.Write a program to handle a file opening error using exception handling?\n",
        "try:\n",
        "    with open(\"data.txt\", \"r\") as file:\n",
        "        print(file.read())\n",
        "except FileNotFoundError:\n",
        "    print(\"Error: The file could not be found.\")\n"
      ],
      "metadata": {
        "colab": {
          "base_uri": "https://localhost:8080/"
        },
        "id": "VL11jZA7TUlI",
        "outputId": "9e6ff776-b48f-4716-c313-7dcc7f91d007"
      },
      "execution_count": 12,
      "outputs": [
        {
          "output_type": "stream",
          "name": "stdout",
          "text": [
            "Error: The file could not be found.\n"
          ]
        }
      ]
    },
    {
      "cell_type": "code",
      "source": [
        "#Q9.How can you read a file line by line and store its content in a list in Python?\n",
        "with open(\"example.txt\", \"r\") as file:\n",
        "    lines = file.readlines()\n"
      ],
      "metadata": {
        "id": "-SQFrfR3T7zu"
      },
      "execution_count": 13,
      "outputs": []
    },
    {
      "cell_type": "code",
      "source": [
        "#Q10.How can you append data to an existing file in Python?\n",
        "with open(\"example.txt\", \"a\") as file:\n",
        "    file.write(\"\\nNew line of text\")\n"
      ],
      "metadata": {
        "id": "ctMZuZ2HUJlG"
      },
      "execution_count": 14,
      "outputs": []
    },
    {
      "cell_type": "code",
      "source": [
        "#Q11.Write a Python program that uses a try-except block to handle an error when attempting to access a dictionary key that doesn't exist?\n",
        "my_dict = {\"a\": 1, \"b\": 2}\n",
        "\n",
        "try:\n",
        "    value = my_dict[\"c\"]\n",
        "except KeyError:\n",
        "    print(\"Error: Key not found in dictionary.\")"
      ],
      "metadata": {
        "colab": {
          "base_uri": "https://localhost:8080/"
        },
        "id": "t6PM5FMmUsg0",
        "outputId": "39f4e4de-9691-4454-d531-d93f900e4234"
      },
      "execution_count": 15,
      "outputs": [
        {
          "output_type": "stream",
          "name": "stdout",
          "text": [
            "Error: Key not found in dictionary.\n"
          ]
        }
      ]
    },
    {
      "cell_type": "code",
      "source": [
        "#Q12.Write a program that demonstrates using multiple except blocks to handle different types of exceptions?\n",
        "try:\n",
        "    result = 10 / 0\n",
        "except ZeroDivisionError:\n",
        "    print(\"Error: Division by zero.\")\n",
        "except ValueError:\n",
        "    print(\"Error: Invalid value.\")"
      ],
      "metadata": {
        "colab": {
          "base_uri": "https://localhost:8080/"
        },
        "id": "JAZmpJrQU-3D",
        "outputId": "6b1fecf7-f388-418b-ab29-db2818ff5e21"
      },
      "execution_count": 16,
      "outputs": [
        {
          "output_type": "stream",
          "name": "stdout",
          "text": [
            "Error: Division by zero.\n"
          ]
        }
      ]
    },
    {
      "cell_type": "code",
      "source": [
        "#Q13.How would you check if a file exists before attempting to read it in Python?\n",
        "import os\n",
        "\n",
        "if os.path.exists(\"example.txt\"):\n",
        "    with open(\"example.txt\", \"r\") as file:\n",
        "        print(file.read())\n",
        "else:\n",
        "    print(\"File does not exist.\")\n"
      ],
      "metadata": {
        "colab": {
          "base_uri": "https://localhost:8080/"
        },
        "id": "2NnHoig7VVUr",
        "outputId": "b9549f23-83fa-4b81-b510-c661e84f44a0"
      },
      "execution_count": 17,
      "outputs": [
        {
          "output_type": "stream",
          "name": "stdout",
          "text": [
            "Hello, Python!\n",
            "New line of text\n"
          ]
        }
      ]
    },
    {
      "cell_type": "code",
      "source": [
        "#Q14.Write a program that uses the logging module to log both informational and error messages?\n",
        "import logging\n",
        "\n",
        "logging.basicConfig(filename=\"app.log\", level=logging.DEBUG)\n",
        "\n",
        "logging.info(\"Application started successfully.\")\n",
        "try:\n",
        "    result = 10 / 0\n",
        "except ZeroDivisionError as e:\n",
        "    logging.error(f\"An error occurred: {e}\")\n"
      ],
      "metadata": {
        "colab": {
          "base_uri": "https://localhost:8080/"
        },
        "id": "I-4_n58NVs8R",
        "outputId": "cc2775e3-b6e2-4f3b-b6ed-78850dd6fe7a"
      },
      "execution_count": 18,
      "outputs": [
        {
          "output_type": "stream",
          "name": "stderr",
          "text": [
            "ERROR:root:An error occurred: division by zero\n"
          ]
        }
      ]
    },
    {
      "cell_type": "code",
      "source": [
        "#Q15.Write a Python program that prints the content of a file and handles the case when the file is empty?\n",
        "try:\n",
        "    with open(\"example.txt\", \"r\") as file:\n",
        "        content = file.read()\n",
        "        if content:\n",
        "            print(content)\n",
        "        else:\n",
        "            print(\"File is empty.\")\n",
        "except FileNotFoundError:\n",
        "    print(\"File not found.\")"
      ],
      "metadata": {
        "colab": {
          "base_uri": "https://localhost:8080/"
        },
        "id": "OqVjqiZiWFbY",
        "outputId": "e4085e3c-829a-4719-808a-d33af040e389"
      },
      "execution_count": 19,
      "outputs": [
        {
          "output_type": "stream",
          "name": "stdout",
          "text": [
            "Hello, Python!\n",
            "New line of text\n"
          ]
        }
      ]
    },
    {
      "cell_type": "code",
      "source": [
        "#Q16.Demonstrate how to use memory profiling to check the memory usage of a small program?\n",
        "\n",
        "# memory_profile_example.py\n",
        "\n",
        "from memory_profiler import profile\n",
        "\n",
        "@profile\n",
        "def create_large_list():\n",
        "    # This function creates a large list to demonstrate memory usage\n",
        "    nums = [i for i in range(1000000)]  # 1 million integers\n",
        "    return nums\n",
        "\n",
        "if __name__ == \"__main__\":\n",
        "    create_large_list()\n"
      ],
      "metadata": {
        "colab": {
          "base_uri": "https://localhost:8080/"
        },
        "id": "Q7bhIVPnWV4I",
        "outputId": "f950ea31-b6a8-4544-ddac-c5e64bba2301"
      },
      "execution_count": 26,
      "outputs": [
        {
          "output_type": "stream",
          "name": "stdout",
          "text": [
            "ERROR: Could not find file /tmp/ipython-input-3417473049.py\n"
          ]
        }
      ]
    },
    {
      "cell_type": "code",
      "source": [
        "#Q17.Write a Python program to create and write a list of numbers to a file, one number per line?\n",
        "# Python program to write a list of numbers to a file, one per line\n",
        "\n",
        "# Step 1: Create a list of numbers\n",
        "numbers = [10, 20, 30, 40, 50]\n",
        "\n",
        "# Step 2: Open the file in write mode\n",
        "with open(\"numbers.txt\", \"w\") as file:\n",
        "    # Step 3: Write each number on a new line\n",
        "    for num in numbers:\n",
        "        file.write(str(num) + \"\\n\")\n",
        "\n",
        "print(\"Numbers written to 'numbers.txt' successfully!\")\n"
      ],
      "metadata": {
        "colab": {
          "base_uri": "https://localhost:8080/"
        },
        "id": "dgyBFEwPWy-e",
        "outputId": "09673fb3-b16a-4f4b-df59-fbfaaa02765c"
      },
      "execution_count": 24,
      "outputs": [
        {
          "output_type": "stream",
          "name": "stdout",
          "text": [
            "Numbers written to 'numbers.txt' successfully!\n"
          ]
        }
      ]
    },
    {
      "cell_type": "code",
      "source": [
        "#Q19.Write a program that handles both IndexError and KeyError using a try-except block?\n",
        "# Program to handle IndexError and KeyError\n",
        "\n",
        "try:\n",
        "    # Example 1: IndexError\n",
        "    my_list = [10, 20, 30]\n",
        "    print(\"Accessing 5th element:\", my_list[4])  # Invalid index\n",
        "\n",
        "    # Example 2: KeyError\n",
        "    my_dict = {\"a\": 1, \"b\": 2}\n",
        "    print(\"Accessing key 'c':\", my_dict[\"c\"])    # Invalid key\n",
        "\n",
        "except IndexError as ie:\n",
        "    print(\"IndexError occurred:\", ie)\n",
        "\n",
        "except KeyError as ke:\n",
        "    print(\"KeyError occurred:\", ke)\n",
        "\n"
      ],
      "metadata": {
        "colab": {
          "base_uri": "https://localhost:8080/"
        },
        "id": "inGCf_EvZVZ_",
        "outputId": "5995f760-3782-4750-d92d-9bae04e7f9d0"
      },
      "execution_count": 28,
      "outputs": [
        {
          "output_type": "stream",
          "name": "stdout",
          "text": [
            "IndexError occurred: list index out of range\n"
          ]
        }
      ]
    },
    {
      "cell_type": "code",
      "source": [
        "#Q20.How would you open a file and read its contents using a context manager in Python?\n",
        "# Open and read a file using a context manager\n",
        "\n",
        "# 'with' automatically closes the file after the block ends\n",
        "with open(\"example.txt\", \"r\") as file:\n",
        "    contents = file.read()   # Read entire file content\n",
        "    print(contents)\n"
      ],
      "metadata": {
        "colab": {
          "base_uri": "https://localhost:8080/"
        },
        "id": "JH55IpPqaCyV",
        "outputId": "f76836f4-477b-4166-b392-56939386e9c1"
      },
      "execution_count": 29,
      "outputs": [
        {
          "output_type": "stream",
          "name": "stdout",
          "text": [
            "Hello, Python!\n",
            "New line of text\n"
          ]
        }
      ]
    },
    {
      "cell_type": "code",
      "source": [
        "#Q21.Write a Python program that reads a file and prints the number of occurrences of a specific word?\n",
        "# Program to count occurrences of a specific word in a file\n",
        "\n",
        "# Ask user for the file name and word to search\n",
        "filename = \"sample.txt\"\n",
        "search_word = \"python\"\n",
        "\n",
        "try:\n",
        "    with open(filename, \"r\", encoding=\"utf-8\") as file:\n",
        "        contents = file.read().lower()  # Read file and make lowercase for case-insensitive match\n",
        "        count = contents.split().count(search_word.lower())\n",
        "\n",
        "    print(f\"The word '{search_word}' occurs {count} times in '{filename}'.\")\n",
        "\n",
        "except FileNotFoundError:\n",
        "    print(f\"Error: The file '{filename}' was not found.\")\n"
      ],
      "metadata": {
        "colab": {
          "base_uri": "https://localhost:8080/"
        },
        "id": "2m1Zs04QabEU",
        "outputId": "c1aecf48-a0ae-47e7-8322-2a6f977d0ad8"
      },
      "execution_count": 30,
      "outputs": [
        {
          "output_type": "stream",
          "name": "stdout",
          "text": [
            "Error: The file 'sample.txt' was not found.\n"
          ]
        }
      ]
    },
    {
      "cell_type": "code",
      "source": [
        "#Q22.How can you check if a file is empty before attempting to read its contents?\n",
        "import os\n",
        "\n",
        "filename = \"sample.txt\"\n",
        "\n",
        "# Check if file exists first\n",
        "if os.path.exists(filename):\n",
        "    if os.path.getsize(filename) == 0:\n",
        "        print(f\"'{filename}' is empty.\")\n",
        "    else:\n",
        "        with open(filename, \"r\", encoding=\"utf-8\") as file:\n",
        "            contents = file.read()\n",
        "            print(\"File contents:\")\n",
        "            print(contents)\n",
        "else:\n",
        "    print(f\"File '{filename}' does not exist.\")\n"
      ],
      "metadata": {
        "colab": {
          "base_uri": "https://localhost:8080/"
        },
        "id": "VXcoe6GBaokr",
        "outputId": "d9a04c7d-c7fa-4d04-99de-d686c5b31378"
      },
      "execution_count": 31,
      "outputs": [
        {
          "output_type": "stream",
          "name": "stdout",
          "text": [
            "File 'sample.txt' does not exist.\n"
          ]
        }
      ]
    },
    {
      "cell_type": "code",
      "source": [
        "#Q23.Write a Python program that writes to a log file when an error occurs during file handling.\n",
        "import logging\n",
        "\n",
        "# Configure logging\n",
        "logging.basicConfig(\n",
        "    filename=\"error.log\",           # Log file name\n",
        "    level=logging.ERROR,            # Only log errors and above\n",
        "    format=\"%(asctime)s - %(levelname)s - %(message)s\"\n",
        ")\n",
        "\n",
        "filename = \"sample.txt\"\n",
        "\n",
        "try:\n",
        "    with open(filename, \"r\", encoding=\"utf-8\") as file:\n",
        "        contents = file.read()\n",
        "        print(contents)\n",
        "\n",
        "except FileNotFoundError as e:\n",
        "    print(f\"Error: {filename} not found.\")\n",
        "    logging.error(\"FileNotFoundError: %s\", e)\n",
        "\n",
        "except PermissionError as e:\n",
        "    print(f\"Error: Permission denied for {filename}.\")\n",
        "    logging.error(\"PermissionError: %s\", e)\n",
        "\n",
        "except Exception as e:\n",
        "    print(f\"An unexpected error occurred: {e}\")\n",
        "    logging.error(\"UnexpectedError: %s\", e)\n"
      ],
      "metadata": {
        "colab": {
          "base_uri": "https://localhost:8080/"
        },
        "id": "QYEIr59PbF2q",
        "outputId": "cd1de8e7-13d8-4912-c8a4-8bf5d3b4db95"
      },
      "execution_count": 32,
      "outputs": [
        {
          "output_type": "stream",
          "name": "stderr",
          "text": [
            "ERROR:root:FileNotFoundError: [Errno 2] No such file or directory: 'sample.txt'\n"
          ]
        },
        {
          "output_type": "stream",
          "name": "stdout",
          "text": [
            "Error: sample.txt not found.\n"
          ]
        }
      ]
    },
    {
      "cell_type": "code",
      "source": [],
      "metadata": {
        "id": "MzVl9ySHbpLx"
      },
      "execution_count": null,
      "outputs": []
    }
  ]
}